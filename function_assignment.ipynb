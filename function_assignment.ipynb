{
 "cells": [
  {
   "cell_type": "markdown",
   "id": "dbc49a35-e8e1-4825-8070-288805f904ac",
   "metadata": {},
   "source": [
    "Question.1 -  What is the difference between a function and a method in Python?\n",
    "\n",
    "Answer : In Python, a function is a block of reusable code that performs a specific task. Functions are defined using the def keyword and can be called independently. A method, on the other hand, is a function that is associated with an object and is called on that object. Methods are defined within a class and have access to the object's attributes and other methods."
   ]
  },
  {
   "cell_type": "code",
   "execution_count": 1,
   "id": "c7c98044-6fde-4a83-9dd5-7099501cfc80",
   "metadata": {},
   "outputs": [],
   "source": [
    "#Here Is The Example - "
   ]
  },
  {
   "cell_type": "code",
   "execution_count": 2,
   "id": "56e64b79-525e-471f-ac30-53b7e5ea80bb",
   "metadata": {},
   "outputs": [
    {
     "name": "stdout",
     "output_type": "stream",
     "text": [
      "Hello, Ayush!\n"
     ]
    }
   ],
   "source": [
    "#Functions\n",
    "def greet(name):\n",
    "    return f\"Hello, {name}!\"\n",
    "\n",
    "print(greet(\"Ayush\"))  # Output: Hello, Ayush!\n"
   ]
  },
  {
   "cell_type": "code",
   "execution_count": 3,
   "id": "fcc70563-f7cc-46c3-8aca-3084e990ef63",
   "metadata": {},
   "outputs": [
    {
     "name": "stdout",
     "output_type": "stream",
     "text": [
      "Hello, Ayush!\n"
     ]
    }
   ],
   "source": [
    "#Method \n",
    "\n",
    "class Greeter:\n",
    "    def __init__(self, name):\n",
    "        self.name = name\n",
    "\n",
    "    def greet(self):\n",
    "        return f\"Hello, {self.name}!\"\n",
    "\n",
    "# Creating an instance of Greeter\n",
    "greeter = Greeter(\"Ayush\")\n",
    "print(greeter.greet())  # Output: Hello, Ayush!\n"
   ]
  },
  {
   "cell_type": "code",
   "execution_count": null,
   "id": "fe21c4e3-fa2b-42d8-a9d5-91e57440564a",
   "metadata": {},
   "outputs": [],
   "source": []
  },
  {
   "cell_type": "markdown",
   "id": "fe16efd3-de92-45ad-aba7-7b778335a0d3",
   "metadata": {},
   "source": [
    "Question.2 - Explain the concept of function arguments and parameters in Python.\n",
    "\n",
    "Answer - In a Python, parameters and arguments are terms used to describe the inputs to functions.\n",
    "\n",
    "    Parameters are the variables listed inside the parentheses in the function definition.\n",
    "    Arguments are the values passed to the function when it is called."
   ]
  },
  {
   "cell_type": "code",
   "execution_count": 5,
   "id": "1df58cd9-db6a-483d-8d1d-6b37ebee92e5",
   "metadata": {},
   "outputs": [
    {
     "name": "stdout",
     "output_type": "stream",
     "text": [
      "10\n"
     ]
    }
   ],
   "source": [
    "#Example\n",
    "#Consider a function that adds two numbers:\n",
    "\n",
    "def add(a, b):  # 'a' and 'b' are parameters\n",
    "    return a + b\n",
    "\n",
    "result = add(5, 5)  # 5 and 5 are arguments\n",
    "print(result)  # Output: 10\n",
    "\n",
    "#In this example:\n",
    "\n",
    "#a and b are parameters of the add function. They are placeholders for the values that will be provided when the function is called.\n",
    "#3 and 5 are arguments provided to the add function when it is called. These arguments are assigned to the parameters a and b, respectively, within the function.\n"
   ]
  },
  {
   "cell_type": "code",
   "execution_count": 6,
   "id": "599df001-e744-4776-b79b-e541e8bc809b",
   "metadata": {},
   "outputs": [
    {
     "name": "stdout",
     "output_type": "stream",
     "text": [
      "Hello, Ayush!\n"
     ]
    }
   ],
   "source": [
    "#Types Of Argument\n",
    "\n",
    "#1.Positional Arguments: The values are passed in the order of the parameters.\n",
    "\n",
    "def greet(name, message):\n",
    "    return f\"{message}, {name}!\"\n",
    "\n",
    "print(greet(\"Ayush\", \"Hello\"))  # Output: Hello, Ayush!\n"
   ]
  },
  {
   "cell_type": "code",
   "execution_count": 7,
   "id": "8581c6d6-8531-434e-aa7c-97a369560106",
   "metadata": {},
   "outputs": [
    {
     "name": "stdout",
     "output_type": "stream",
     "text": [
      "Hello, Ayush!\n"
     ]
    }
   ],
   "source": [
    "#2.Keyword Arguments: The values are passed using the parameter names.\n",
    "\n",
    "print(greet(name=\"Ayush\", message=\"Hello\"))  # Output: Hello, Ayush!\n"
   ]
  },
  {
   "cell_type": "code",
   "execution_count": 8,
   "id": "98dadc5f-2204-47f2-8304-72f86e9b3fa5",
   "metadata": {},
   "outputs": [
    {
     "name": "stdout",
     "output_type": "stream",
     "text": [
      "Hello, Ayush!\n"
     ]
    }
   ],
   "source": [
    "#3.Default Arguments: Parameters can have default values.\n",
    "\n",
    "def greet(name, message=\"Hello\"):\n",
    "    return f\"{message}, {name}!\"\n",
    "\n",
    "print(greet(\"Ayush\"))  # Output: Hello, Ayush!\n"
   ]
  },
  {
   "cell_type": "code",
   "execution_count": 9,
   "id": "d09119b7-e535-4ed9-814d-1b6f6c83a6a7",
   "metadata": {},
   "outputs": [
    {
     "name": "stdout",
     "output_type": "stream",
     "text": [
      "10\n",
      "name: Ayush\n",
      "age: 19\n",
      "city: jaipur\n"
     ]
    }
   ],
   "source": [
    "#4.Variable-length Arguments: Functions can accept an arbitrary number of arguments using *args (for positional arguments) \n",
    "#and **kwargs (for keyword arguments).\n",
    "\n",
    "def add(*args):\n",
    "    return sum(args)\n",
    "\n",
    "print(add(1, 2, 3, 4))  # Output: 10\n",
    "\n",
    "def display_info(**kwargs):\n",
    "    for key, value in kwargs.items():\n",
    "        print(f\"{key}: {value}\")\n",
    "\n",
    "display_info(name=\"Ayush\", age=19, city=\"jaipur\")\n",
    "# Output: 10\n",
    "# name: Ayush\n",
    "# age: 19\n",
    "# city:jaipur\n"
   ]
  },
  {
   "cell_type": "code",
   "execution_count": null,
   "id": "23a91a40-0d2e-401a-bab0-f0ad2ea46819",
   "metadata": {},
   "outputs": [],
   "source": []
  },
  {
   "cell_type": "markdown",
   "id": "ee8eab75-045e-4b3c-9b8a-b7566e238dde",
   "metadata": {},
   "source": [
    "Question.3 - What are the different ways to define and call a function in Python?\n",
    "\n",
    "Answer: - In Python, functions can be defined and called in several different ways. Here are some of the main methods:"
   ]
  },
  {
   "cell_type": "code",
   "execution_count": null,
   "id": "e0dc186a-db17-4a86-a9c3-5b6d8274f1db",
   "metadata": {},
   "outputs": [],
   "source": [
    "#1. Standard Function Definition - \n",
    "#A standard function is defined using the def keyword.\n",
    "\n",
    "#Definition\n",
    "\n",
    "def greet(name):\n",
    "    return f\"Hello, {name}!\"\n",
    "\n",
    "\n",
    "#Calling \n",
    "\n",
    "print(greet(\"Ayush\"))  # Output: Hello, Ayush!\n",
    "\n",
    "\n",
    "\n",
    "#2. Lambda Function\n",
    "#Lambda functions are small anonymous functions defined using the lambda keyword. They can have any number of arguments but only one expression.\n",
    "\n",
    "#Definition\n",
    "\n",
    "add = lambda x, y: x + y\n",
    "\n",
    "\n",
    "\n",
    "#Calling\n",
    "\n",
    "print(add(3, 5))  # Output: 8\n",
    "\n",
    "\n",
    "\n",
    "#3.Function with Default Arguments\n",
    "#You can define default values for function parameters.\n",
    "\n",
    "#Definition\n",
    "\n",
    "def greet(name, message=\"Hello\"):\n",
    "    return f\"{message}, {name}!\"\n",
    "\n",
    "\n",
    "#Calling \n",
    "\n",
    "print(greet(\"Ayush\"))        # Output: Hello, Ayush!\n",
    "print(greet(\"Ayush\", \"Hi\"))    # Output: Hi, Ayush!\n",
    "\n",
    "\n",
    "\n",
    "#Variable-length Arguments\n",
    "#You can define functions that accept an arbitrary number of positional (*args) or keyword arguments (**kwargs).\n",
    "\n",
    "\n",
    "#Definition \n",
    "\n",
    "def print_args(*args):\n",
    "    for arg in args:\n",
    "        print(arg)\n",
    "\n",
    "#Calling\n",
    "\n",
    "print_args(1, 2, 3)  # Output: 1 2 3\n",
    "\n",
    "\n",
    "\n",
    "#Definition\n",
    "\n",
    "def print_kwargs(**kwargs):\n",
    "    for key, value in kwargs.items():\n",
    "        print(f\"{key}: {value}\")\n",
    "\n",
    "        \n",
    "#Calling\n",
    "\n",
    "\n",
    "print_kwargs(name=\"Ayush\", age=19)  \n",
    "# Output:\n",
    "# name: Ayush\n",
    "# age: 19\n",
    "\n",
    "\n",
    "\n",
    "#5. Function within a Function\n",
    "#Functions can be nested within other functions.\n",
    "\n",
    "#Definition\n",
    "\n",
    "def outer_function(text):\n",
    "    def inner_function():\n",
    "        print(text)\n",
    "    inner_function()\n",
    "\n",
    "    \n",
    "#Calling\n",
    "\n",
    "outer_function(\"Hello I'm Ayush Singh!\")  # Output: Hello I'm Ayush Singh!\n",
    "\n",
    "\n",
    "#6.Function as an Argument\n",
    "#Functions can be passed as arguments to other functions.\n",
    "\n",
    "#Definition\n",
    "\n",
    "def apply_function(func, value):\n",
    "    return func(value)\n",
    "\n",
    "#Calling\n",
    "\n",
    "def square(x):\n",
    "    return x * x\n",
    "\n",
    "print(apply_function(square, 4))  # Output: 16\n",
    "\n",
    "\n",
    "\n"
   ]
  },
  {
   "cell_type": "code",
   "execution_count": null,
   "id": "f9b5a637-dc60-4b52-b5de-6ae95ad742b3",
   "metadata": {},
   "outputs": [],
   "source": []
  },
  {
   "cell_type": "markdown",
   "id": "e64e4730-bc67-44da-9d93-f720653e027f",
   "metadata": {},
   "source": [
    "Question.4 - What is the purpose of the `return` statement in a Python function?\n",
    "\n",
    "Answer -  The return statement in a Python function is used to exit the function and pass a value back to the caller. It essentially specifies what the function should output when it is called. If no return statement is used, the function will return None by default."
   ]
  },
  {
   "cell_type": "code",
   "execution_count": null,
   "id": "155f26fb-c8e1-4e87-9cf5-8b8f56fd2812",
   "metadata": {},
   "outputs": [],
   "source": [
    "#Example \n",
    "\n",
    "#Definition\n",
    "\n",
    "def square(number):\n",
    "    return number * number\n",
    "\n",
    "#Calling\n",
    "\n",
    "result = square(4)\n",
    "print(result)  # Output: 16\n",
    "\n",
    "\n",
    "\n",
    "#Example with Early Exit\n",
    "#Here is an example demonstrating the return statement's ability to exit a function early\n",
    "\n",
    "\n",
    "#Definition\n",
    "\n",
    "def find_first_even(numbers):\n",
    "    for num in numbers:\n",
    "        if num % 2 == 0:\n",
    "            return num  # Exit the function and return the first even number\n",
    "    return None  # If no even number is found, return None\n",
    "\n",
    "\n",
    "#Calling\n",
    "\n",
    "numbers = [1, 3, 7, 8, 9]\n",
    "first_even = find_first_even(numbers)\n",
    "print(first_even)  # Output: 8\n"
   ]
  },
  {
   "cell_type": "code",
   "execution_count": null,
   "id": "a89dbd80-ce54-4348-b5c3-98fd7a1bd52c",
   "metadata": {},
   "outputs": [],
   "source": []
  },
  {
   "cell_type": "markdown",
   "id": "c71644b0-1ea3-4f78-9b54-611fb805e1bd",
   "metadata": {},
   "source": [
    "Question.5 - What are iterators in Python and how do they differ from iterables?\n",
    "\n",
    "Answer - In Python, iterators and iterables are closely related concepts but serve different purposes.\n",
    "\n",
    "Iterables - An iterable is any Python object that can return its members one at a time, allowing it to be looped over in a for loop. Examples include lists, tuples, strings, and dictionaries. Iterables implement the __iter__() method, which returns an iterator.\n",
    "\n",
    "Iterators: An iterator is an object representing a stream of data; it returns the data one element at a time. Iterators implement two methods:\n",
    "\n",
    "__iter__(): Returns the iterator object itself.\n",
    "__next__(): Returns the next element from the stream. If no more elements are available, it raises the StopIteration exception."
   ]
  },
  {
   "cell_type": "code",
   "execution_count": null,
   "id": "d36fa2b2-6009-46c0-82e2-a24bad723995",
   "metadata": {},
   "outputs": [],
   "source": [
    "#Example\n",
    "#Creating an Iterable and an Iterator:\n",
    "\n",
    "# List is an iterable\n",
    "my_list = [1, 2, 3, 4]\n",
    "\n",
    "# Get an iterator from the iterable\n",
    "my_iterator = iter(my_list)\n",
    "\n",
    "# Using the iterator to access elements\n",
    "print(next(my_iterator))  # Output: 1\n",
    "print(next(my_iterator))  # Output: 2\n",
    "print(next(my_iterator))  # Output: 3\n",
    "print(next(my_iterator))  # Output: 4\n",
    "# The next call will raise StopIteration as there are no more elements\n"
   ]
  },
  {
   "cell_type": "code",
   "execution_count": null,
   "id": "bfdb989e-d0a1-4b56-b6e6-50c2f1cc8447",
   "metadata": {},
   "outputs": [],
   "source": []
  },
  {
   "cell_type": "markdown",
   "id": "d2f34b72-69cd-4b7c-ab2c-c50072b933f8",
   "metadata": {},
   "source": [
    "Question.6 - Explain the concept of generators in Python and how they are defined.\n",
    "\n",
    "Answer - In Python, generators are a simple and powerful tool for creating iterators. They allow you to iterate over a sequence of values without having to create and store the entire sequence in memory at once. Generators are defined using a special type of function called a generator function.\n",
    "\n",
    "\n",
    "-- Generator Functions -- \n",
    "\n",
    "A generator function is defined like a normal function, but instead of using the return statement, it uses the yield statement to return values one at a time. Each time the yield statement is encountered, the function's state is saved, and the value is returned to the caller. When the generator is called again, it resumes execution immediately after the yield statement.\n"
   ]
  },
  {
   "cell_type": "code",
   "execution_count": 12,
   "id": "87a31569-fa79-4ba1-8238-835940daebd6",
   "metadata": {},
   "outputs": [
    {
     "name": "stdout",
     "output_type": "stream",
     "text": [
      "1\n",
      "2\n",
      "3\n",
      "4\n",
      "5\n"
     ]
    }
   ],
   "source": [
    "#Defining a Generator Function\n",
    "#Here's how you can define a generator function:\n",
    "\n",
    "def count_up_to(max):\n",
    "    count = 1\n",
    "    while count <= max:\n",
    "        yield count\n",
    "        count += 1\n",
    "\n",
    "\n",
    "#Using a Generator Function\n",
    "#You can use the generator function like this:\n",
    "\n",
    "counter = count_up_to(5)\n",
    "\n",
    "# Using a for loop to iterate through the generator\n",
    "for num in counter:\n",
    "    print(num)\n",
    "\n",
    "# Output:\n",
    "# 1\n",
    "# 2\n",
    "# 3\n",
    "# 4\n",
    "# 5\n"
   ]
  },
  {
   "cell_type": "markdown",
   "id": "46cfcb36-37ee-4c15-bb80-42f0a7b65ce4",
   "metadata": {},
   "source": [
    "- Key Points about Generators\n",
    "- Memory Efficiency: Generators are memory-efficient because they generate values on the fly and do not store the entire sequence in memory.\n",
    "- State Preservation: Each time a generator's yield statement is executed, the function's state is preserved. This means the local variables and execution       point are saved.\n",
    "- Lazy Evaluation: Generators produce items only when requested, making them suitable for working with large or infinite sequences."
   ]
  },
  {
   "cell_type": "code",
   "execution_count": null,
   "id": "aefa156d-d722-4b6d-bd02-43f081cbeecf",
   "metadata": {},
   "outputs": [],
   "source": [
    "#Example: Fibonacci Sequence Generator\n",
    "#Here is an example of a generator function that produces an infinite sequence of Fibonacci numbers:\n",
    "\n",
    "def fibonacci():\n",
    "    a, b = 0, 1\n",
    "    while True:\n",
    "        yield a\n",
    "        a, b = b, a + b\n",
    "\n",
    "# Using the Fibonacci generator\n",
    "fib_gen = fibonacci()\n",
    "\n",
    "# Printing the first 10 Fibonacci numbers\n",
    "for _ in range(10):\n",
    "    print(next(fib_gen))\n",
    "\n",
    "# Output:\n",
    "# 0\n",
    "# 1\n",
    "# 1\n",
    "# 2\n",
    "# 3\n",
    "# 5\n",
    "# 8\n",
    "# 13\n",
    "# 21\n",
    "# 34\n"
   ]
  },
  {
   "cell_type": "markdown",
   "id": "55a5d645-d503-47a1-b25f-e36d2696cc58",
   "metadata": {},
   "source": [
    "Question.7 - What are the advantages of using generators over regular functions?\n",
    "\n",
    "Answer - Generators offer several advantages over regular functions, particularly when dealing with large datasets or streams of data. Here are some key benefits:"
   ]
  },
  {
   "cell_type": "code",
   "execution_count": null,
   "id": "c8f25ba6-6ce6-4c7b-bcc8-85e73230d131",
   "metadata": {},
   "outputs": [],
   "source": [
    "#1. Memory Efficiency\n",
    "#Generators: Generate values on the fly and do not store the entire sequence in memory. This makes them ideal for working with large or infinite datasets.\n",
    "\n",
    "#Regular Functions: Typically return a list or another collection that stores all values in memory, which can be inefficient for large datasets."
   ]
  },
  {
   "cell_type": "code",
   "execution_count": null,
   "id": "f113b431-d197-463d-a1ba-1c498d96d448",
   "metadata": {},
   "outputs": [],
   "source": [
    "#Example\n",
    "\n",
    "# Regular function returning a list\n",
    "def generate_numbers(n):\n",
    "    result = []\n",
    "    for i in range(n):\n",
    "        result.append(i)\n",
    "    return result\n",
    "\n",
    "# Generator function yielding numbers\n",
    "def generate_numbers_gen(n):\n",
    "    for i in range(n):\n",
    "        yield i\n",
    "\n",
    "# Using the regular function\n",
    "numbers = generate_numbers(1000000)  # Consumes a lot of memory\n",
    "\n",
    "# Using the generator\n",
    "numbers_gen = generate_numbers_gen(1000000)  # Consumes very little memory\n"
   ]
  },
  {
   "cell_type": "code",
   "execution_count": null,
   "id": "74223a84-c0b1-49e6-9e68-99c8d07f761b",
   "metadata": {},
   "outputs": [],
   "source": [
    "#2.Lazy Evaluation\n",
    "#Generators: Produce values only when requested. This lazy evaluation can lead to performance improvements and lower memory usage.\n",
    "\n",
    "#Regular Functions: Compute and return all values at once, which can be less efficient."
   ]
  },
  {
   "cell_type": "code",
   "execution_count": null,
   "id": "a620c9b2-4877-4a26-95b7-47e85e29fbcf",
   "metadata": {},
   "outputs": [],
   "source": [
    "#Examples\n",
    "\n",
    "# Generator for large data processing\n",
    "def process_data(data):\n",
    "    for item in data:\n",
    "        yield item * 2  # Process each item lazily\n",
    "\n",
    "# Using the generator\n",
    "data_gen = process_data(range(1000000))\n",
    "for value in data_gen:\n",
    "    if value > 100:  # Stop early if a condition is met\n",
    "        break\n"
   ]
  },
  {
   "cell_type": "code",
   "execution_count": null,
   "id": "6e9ddd99-40a2-43a3-86ab-341fabf0bcd2",
   "metadata": {},
   "outputs": [],
   "source": [
    "#3.Simplified Code for Iteration\n",
    "#Generators: Provide a convenient way to iterate over sequences, avoiding the need to manage the state and control flow explicitly.\n",
    "\n",
    "#Regular Functions: May require more complex code to achieve the same iteration behavior.\n"
   ]
  },
  {
   "cell_type": "code",
   "execution_count": null,
   "id": "7fd86394-97ca-434c-920e-bdfe3695d0e8",
   "metadata": {},
   "outputs": [],
   "source": [
    "#Examples\n",
    "# Generator for Fibonacci sequence\n",
    "def fibonacci():\n",
    "    a, b = 0, 1\n",
    "    while True:\n",
    "        yield a\n",
    "        a, b = b, a + b\n",
    "\n",
    "# Using the Fibonacci generator\n",
    "fib_gen = fibonacci()\n",
    "for _ in range(10):\n",
    "    print(next(fib_gen))  # Prints first 10 Fibonacci numbers\n"
   ]
  },
  {
   "cell_type": "code",
   "execution_count": null,
   "id": "4a2f5464-939f-41c5-aa26-40148500fffa",
   "metadata": {},
   "outputs": [],
   "source": [
    "#4. Improved Performance with Large Data\n",
    "#Generators: Can lead to faster execution times because they yield items one at a time and can start producing results immediately.\n",
    "\n",
    "#Regular Functions: May have slower performance due to the need to compute and store all results before returning.\n",
    "\n",
    "#5. Infinite Sequences\n",
    "#Generators: Can represent infinite sequences, generating items on-the-fly without running into memory issues.\n",
    "\n",
    "#Regular Functions: Cannot practically handle infinite sequences, as they would attempt to create and store an infinite number of items."
   ]
  },
  {
   "cell_type": "code",
   "execution_count": null,
   "id": "c3c97575-baf3-41aa-a4ed-799b80c8e4d1",
   "metadata": {},
   "outputs": [],
   "source": [
    "#Example\n",
    "\n",
    "# Generator for infinite sequence of even numbers\n",
    "def even_numbers():\n",
    "    num = 0\n",
    "    while True:\n",
    "        yield num\n",
    "        num += 2\n",
    "\n",
    "# Using the generator\n",
    "evens = even_numbers()\n",
    "for _ in range(10):\n",
    "    print(next(evens))  # Prints first 10 even numbers\n"
   ]
  },
  {
   "cell_type": "markdown",
   "id": "68cac70c-b093-4a7a-8006-6a560a329662",
   "metadata": {},
   "source": [
    "Question.8 - What is a lambda function in Python and when is it typically used?\n",
    "\n",
    "Answer - A lambda function in Python is a small, anonymous function defined using the lambda keyword. It can have any number of input parameters but only one expression. The expression is evaluated and returned. Lambda functions are often used for short, simple operations where defining a full function would be unnecessarily verbose."
   ]
  },
  {
   "cell_type": "code",
   "execution_count": null,
   "id": "b22627f0-52aa-48fa-b5d9-55b9507f85e8",
   "metadata": {},
   "outputs": [],
   "source": [
    "#Syntax\n",
    "lambda arguments: expression"
   ]
  },
  {
   "cell_type": "markdown",
   "id": "db36711b-89e1-4ec5-8f8b-c35fdea978ef",
   "metadata": {},
   "source": [
    "Characteristics -  Anonymous: Lambda functions do not have a name.\n",
    "Single Expression:  They contain a single expression whose result is returned. They cannot contain multiple statements or expressions.\n",
    "Concise :  They are useful for short, throwaway functions that are not reused elsewhere in the code.\n",
    "\n",
    "\n",
    "Typical Usage -Lambda functions are commonly used in situations where a small function is required for a short period, such as:\n",
    "\n",
    "1. Sorting and Filtering: Used as arguments to functions like sorted(), filter(), and map().\n",
    "2. Inline Functions: Useful for small functions that are defined and used immediately.\n",
    "3. Higher-order Functions: Used as arguments to higher-order functions that take other functions as inputs."
   ]
  },
  {
   "cell_type": "code",
   "execution_count": 10,
   "id": "b5ee87d2-e60b-4101-91f0-2a4d6aa32857",
   "metadata": {},
   "outputs": [
    {
     "name": "stdout",
     "output_type": "stream",
     "text": [
      "[('Rahul', 75), ('Ram', 85), ('Ayush', 88), ('Ajay', 95)]\n"
     ]
    }
   ],
   "source": [
    "#Example\n",
    "\n",
    "#Example: Sorting with Lambda Function\n",
    "#Let's consider a list of tuples representing students and their grades. We want to sort the list by grades using a lambda function.\n",
    "\n",
    "#List Of Student \n",
    "\n",
    "students = [(\"Ayush\", 88), (\"Rahul\", 75), (\"Ajay\", 95), (\"Ram\", 85)]\n",
    "\n",
    "#Using a Lambda Function to Sort by Grades:\n",
    "\n",
    "sorted_students = sorted(students, key=lambda student: student[1])\n",
    "\n",
    "# Print sorted list\n",
    "print(sorted_students)\n",
    "\n",
    "##Output\n",
    "\n",
    "#[('Rahul', 75), ('Ram', 85), ('Ayush', 88), ('Ajay', 95)]\n",
    "\n"
   ]
  },
  {
   "cell_type": "markdown",
   "id": "156b7180-02e5-491c-8ec1-abe000c8cfc1",
   "metadata": {},
   "source": [
    "Explanation:\n",
    "1. Lambda Function: lambda student: student[1] is a lambda function that takes a tuple student as input and returns the grade (the second element of the tuple).\n",
    "2. sorted() Function: The sorted() function uses this lambda function as the key argument to determine the sort order.\n",
    "3. Result: The list of students is sorted by their grades in ascending order.\n"
   ]
  },
  {
   "cell_type": "markdown",
   "id": "871b5f9d-825d-45a8-ad5c-6d50c13d73a9",
   "metadata": {},
   "source": []
  },
  {
   "cell_type": "markdown",
   "id": "1cb0ec87-20b5-43bc-a1cf-b28f7c99392b",
   "metadata": {},
   "source": [
    "Question.9 - Explain the purpose and usage of the `map()` function in Python.\n",
    "\n",
    "Answer - The map() function in Python is used to apply a specified function to each item in an iterable (such as a list, tuple, or set) and return an iterator of the results. It allows you to perform operations on each element of an iterable in a clean and efficient manner."
   ]
  },
  {
   "cell_type": "code",
   "execution_count": null,
   "id": "42a07e19-b6ec-4df5-a972-f91274c88cae",
   "metadata": {},
   "outputs": [],
   "source": [
    "#Syntax\n",
    "\n",
    "map(function, iterable, ...)\n"
   ]
  },
  {
   "cell_type": "markdown",
   "id": "9cb538cd-2f73-450f-9acc-4f163d00c429",
   "metadata": {},
   "source": [
    "function : The function to apply to each item in the iterable.\n",
    "iterable : An iterable whose elements are to be processed. You can pass multiple iterables if the function takes more than one argument."
   ]
  },
  {
   "cell_type": "markdown",
   "id": "b4fee7f5-5062-4d18-b9da-327a656f8545",
   "metadata": {},
   "source": [
    "Purpose - \n",
    "\n",
    "The map() function is useful when you need to transform or process each element in an iterable without using explicit loops. It helps in making the code more concise and readable."
   ]
  },
  {
   "cell_type": "code",
   "execution_count": 13,
   "id": "90436aa7-2fa1-4851-9bf5-0894e42b64aa",
   "metadata": {},
   "outputs": [
    {
     "name": "stdout",
     "output_type": "stream",
     "text": [
      "[1, 4, 9, 16, 25]\n"
     ]
    }
   ],
   "source": [
    "#Example Squaring Number\n",
    "\n",
    "# List of numbers\n",
    "numbers = [1, 2, 3, 4, 5]\n",
    "\n",
    "# Using map to square each number\n",
    "squared_numbers = map(lambda x: x**2, numbers)\n",
    "\n",
    "# Convert the result to a list\n",
    "squared_numbers_list = list(squared_numbers)\n",
    "\n",
    "# Print the squared numbers\n",
    "print(squared_numbers_list)\n"
   ]
  },
  {
   "cell_type": "markdown",
   "id": "990fa631-1772-4ed1-9f5a-fcac5c3dbd6e",
   "metadata": {},
   "source": [
    "Multiple Iterables Example -\n",
    "\n",
    "You can also use map() with multiple iterables if the function takes multiple arguments.\n",
    "\n"
   ]
  },
  {
   "cell_type": "code",
   "execution_count": 14,
   "id": "2a4eecd6-e4c0-411e-b68b-ee2064714752",
   "metadata": {},
   "outputs": [
    {
     "name": "stdout",
     "output_type": "stream",
     "text": [
      "[5, 7, 9]\n"
     ]
    }
   ],
   "source": [
    "#Example Adding Corresponding Elements of Two Lists\n",
    "\n",
    "# Lists of numbers\n",
    "list1 = [1, 2, 3]\n",
    "list2 = [4, 5, 6]\n",
    "\n",
    "# Using map to add corresponding elements\n",
    "sum_lists = map(lambda x, y: x + y, list1, list2)\n",
    "\n",
    "# Convert the result to a list\n",
    "sum_list = list(sum_lists)\n",
    "\n",
    "# Print the result\n",
    "print(sum_list)\n"
   ]
  },
  {
   "cell_type": "markdown",
   "id": "7c2331be-5719-465e-ab5a-b72f07a84856",
   "metadata": {},
   "source": [
    "Question.10 -  What is the difference between `map()`, `reduce()`, and `filter()` functions in Python?\n",
    "\n",
    "Answer - In Python, map(), reduce(), and filter() are functional programming tools used to process iterables. They serve different purposes and have different behaviors:"
   ]
  },
  {
   "cell_type": "markdown",
   "id": "0e567553-19bc-44ca-8fa8-f1b2c081de38",
   "metadata": {},
   "source": [
    "1.map()\n",
    "\n",
    "Purpose: Applies a given function to each item in an iterable (or multiple iterables) and returns an iterator of the results.\n",
    "\n",
    "Usage: map(function, iterable, ...)\n",
    "\n",
    "Example: Squaring each number in a list."
   ]
  },
  {
   "cell_type": "code",
   "execution_count": 15,
   "id": "868da9bf-4c8b-433e-9424-99e6ee897289",
   "metadata": {},
   "outputs": [
    {
     "name": "stdout",
     "output_type": "stream",
     "text": [
      "[1, 4, 9, 16, 25]\n"
     ]
    }
   ],
   "source": [
    "# List of numbers\n",
    "numbers = [1, 2, 3, 4, 5]\n",
    "\n",
    "# Using map to square each number\n",
    "squared_numbers = map(lambda x: x**2, numbers)\n",
    "\n",
    "# Convert the result to a list\n",
    "squared_numbers_list = list(squared_numbers)\n",
    "\n",
    "print(squared_numbers_list)  # Output: [1, 4, 9, 16, 25]\n"
   ]
  },
  {
   "cell_type": "markdown",
   "id": "8831d788-6f48-4eb0-86a5-5c468cb583d4",
   "metadata": {},
   "source": [
    "2.filter()\n",
    "\n",
    "Purpose: Filters elements from an iterable based on a function that returns True or False. Only items where the function returns True are included in the result.\n",
    "\n",
    "Usage: filter(function, iterable)\n",
    "\n",
    "Example: Filtering out even numbers from a list."
   ]
  },
  {
   "cell_type": "code",
   "execution_count": 16,
   "id": "cdafb27e-6d03-4de1-9709-fe07ad67a054",
   "metadata": {},
   "outputs": [
    {
     "name": "stdout",
     "output_type": "stream",
     "text": [
      "[2, 4, 6, 8, 10]\n"
     ]
    }
   ],
   "source": [
    "# List of numbers\n",
    "numbers = [1, 2, 3, 4, 5, 6, 7, 8, 9, 10]\n",
    "\n",
    "# Using filter to get only even numbers\n",
    "even_numbers = filter(lambda x: x % 2 == 0, numbers)\n",
    "\n",
    "# Convert the result to a list\n",
    "even_numbers_list = list(even_numbers)\n",
    "\n",
    "print(even_numbers_list)  # Output: [2, 4, 6, 8, 10]\n"
   ]
  },
  {
   "cell_type": "markdown",
   "id": "009c1589-e34e-46fc-8262-1bdf027d5ef6",
   "metadata": {},
   "source": [
    "3.reduce()\n",
    "\n",
    "Purpose: Performs a cumulative operation on an iterable, applying a function to the elements in a way that reduces them to a single value. The reduce() function is not built-in directly in Python 3 but is available in the functools module.\n",
    "\n",
    "Usage: reduce(function, iterable[, initializer])\n",
    "\n",
    "Example: Calculating the product of all numbers in a list.\n"
   ]
  },
  {
   "cell_type": "code",
   "execution_count": 17,
   "id": "7fa257e4-554b-4a35-8ded-9bafdc0b9ae5",
   "metadata": {},
   "outputs": [
    {
     "name": "stdout",
     "output_type": "stream",
     "text": [
      "120\n"
     ]
    }
   ],
   "source": [
    "from functools import reduce\n",
    "\n",
    "# List of numbers\n",
    "numbers = [1, 2, 3, 4, 5]\n",
    "\n",
    "# Using reduce to compute the product of all numbers\n",
    "product = reduce(lambda x, y: x * y, numbers)\n",
    "\n",
    "print(product)  # Output: 120\n"
   ]
  },
  {
   "cell_type": "code",
   "execution_count": null,
   "id": "1af89bd9-0126-484e-9c19-0286b0104665",
   "metadata": {},
   "outputs": [],
   "source": []
  },
  {
   "cell_type": "code",
   "execution_count": null,
   "id": "2a7eae4c-bd58-4a1b-8f1c-1fba62390247",
   "metadata": {},
   "outputs": [],
   "source": []
  },
  {
   "cell_type": "code",
   "execution_count": null,
   "id": "9cb7dd95-ae3c-4360-a7b8-0aea02247a42",
   "metadata": {},
   "outputs": [],
   "source": []
  },
  {
   "cell_type": "markdown",
   "id": "7238c599-69be-440d-9014-fb29b1ba52fc",
   "metadata": {},
   "source": [
    "Practical Questions"
   ]
  },
  {
   "cell_type": "markdown",
   "id": "fd49ae44-877d-4c38-8c1d-e05cb7ac87ef",
   "metadata": {},
   "source": [
    "Question.1 -  Write a Python function that takes a list of numbers as input and returns the sum of all even numbers in the list."
   ]
  },
  {
   "cell_type": "code",
   "execution_count": 19,
   "id": "dc4cd653-f833-4c18-83ee-5d352774e69f",
   "metadata": {},
   "outputs": [
    {
     "name": "stdout",
     "output_type": "stream",
     "text": [
      "30\n"
     ]
    }
   ],
   "source": [
    "#Answer -\n",
    "\n",
    "def sum_of_even_numbers(numbers):\n",
    "    # Use filter to get only even numbers\n",
    "    even_numbers = filter(lambda x: x % 2 == 0, numbers)\n",
    "    \n",
    "    # Use sum to calculate the sum of the even numbers\n",
    "    total_sum = sum(even_numbers)\n",
    "    \n",
    "    return total_sum\n",
    "\n",
    "# Example usage\n",
    "numbers_list = [1, 2, 3, 4, 5, 6, 7, 8, 9, 10]\n",
    "result = sum_of_even_numbers(numbers_list)\n",
    "print(result)  # Output: 30\n"
   ]
  },
  {
   "cell_type": "markdown",
   "id": "7996367b-a11b-4f5a-999d-612018308744",
   "metadata": {},
   "source": [
    "Question.2 - Create a Python function that accepts a string and returns the reverse of that string."
   ]
  },
  {
   "cell_type": "code",
   "execution_count": 20,
   "id": "bc160429-34df-4e80-855c-53c48836139c",
   "metadata": {},
   "outputs": [
    {
     "name": "stdout",
     "output_type": "stream",
     "text": [
      "!dlroW ,olleH\n"
     ]
    }
   ],
   "source": [
    "#Answer\n",
    "\n",
    "def reverse_string(s):\n",
    "    # Return the reverse of the string using slicing\n",
    "    return s[::-1]\n",
    "\n",
    "# Example usage\n",
    "input_string = \"Hello, World!\"\n",
    "reversed_string = reverse_string(input_string)\n",
    "print(reversed_string)  # Output: \"!dlroW ,olleH\"\n"
   ]
  },
  {
   "cell_type": "markdown",
   "id": "73391c4e-2c94-4b3d-a30f-85eb4ba6859f",
   "metadata": {},
   "source": [
    "Question.3 -  Implement a Python function that takes a list of integers and returns a new list containing the squares of each number."
   ]
  },
  {
   "cell_type": "code",
   "execution_count": 21,
   "id": "50a0809a-8c71-4ac2-b954-29bc418ffbe7",
   "metadata": {},
   "outputs": [
    {
     "name": "stdout",
     "output_type": "stream",
     "text": [
      "[1, 4, 9, 16, 25]\n"
     ]
    }
   ],
   "source": [
    "#Answer\n",
    "\n",
    "def squares_list(numbers):\n",
    "    # Return a new list with the squares of each number\n",
    "    return [x**2 for x in numbers]\n",
    "\n",
    "# Example usage\n",
    "input_list = [1, 2, 3, 4, 5]\n",
    "squared_list = squares_list(input_list)\n",
    "print(squared_list)  # Output: [1, 4, 9, 16, 25]\n"
   ]
  },
  {
   "cell_type": "markdown",
   "id": "4128fc42-c5af-494a-8015-6644353e0b77",
   "metadata": {},
   "source": [
    "Question.4 - Write a Python function that checks if a given number is prime or not from 1 to 200."
   ]
  },
  {
   "cell_type": "code",
   "execution_count": 22,
   "id": "ddc0ab83-1624-403d-b561-4bff7d89add8",
   "metadata": {},
   "outputs": [
    {
     "name": "stdout",
     "output_type": "stream",
     "text": [
      "[2, 3, 5, 7, 11, 13, 17, 19, 23, 29, 31, 37, 41, 43, 47, 53, 59, 61, 67, 71, 73, 79, 83, 89, 97, 101, 103, 107, 109, 113, 127, 131, 137, 139, 149, 151, 157, 163, 167, 173, 179, 181, 191, 193, 197, 199]\n"
     ]
    }
   ],
   "source": [
    "#Answer\n",
    "\n",
    "def is_prime(n):\n",
    "    # Check if n is less than 2\n",
    "    if n <= 1:\n",
    "        return False\n",
    "    # Check for factors from 2 to the square root of n\n",
    "    for i in range(2, int(n**0.5) + 1):\n",
    "        if n % i == 0:\n",
    "            return False\n",
    "    return True\n",
    "\n",
    "# Function to check numbers from 1 to 200\n",
    "def check_primes_in_range(start, end):\n",
    "    primes = [num for num in range(start, end + 1) if is_prime(num)]\n",
    "    return primes\n",
    "\n",
    "# Example usage\n",
    "primes_up_to_200 = check_primes_in_range(1, 200)\n",
    "print(primes_up_to_200)\n"
   ]
  },
  {
   "cell_type": "markdown",
   "id": "edb53b39-f04c-4d38-ae0c-46dc4cbbba57",
   "metadata": {},
   "source": [
    "Question.5 -  Create an iterator class in Python that generates the Fibonacci sequence up to a specified number of terms."
   ]
  },
  {
   "cell_type": "code",
   "execution_count": 23,
   "id": "1418d284-3d17-44cf-8661-b1bd28a55e1a",
   "metadata": {},
   "outputs": [
    {
     "name": "stdout",
     "output_type": "stream",
     "text": [
      "0\n",
      "1\n",
      "1\n",
      "2\n",
      "3\n",
      "5\n",
      "8\n",
      "13\n",
      "21\n",
      "34\n"
     ]
    }
   ],
   "source": [
    "#Answer \n",
    "\n",
    "class FibonacciIterator:\n",
    "    def __init__(self, n):\n",
    "        self.n = n  # Number of terms to generate\n",
    "        self.a, self.b = 0, 1  # Initial values for the Fibonacci sequence\n",
    "        self.count = 0  # Counter for the number of terms generated\n",
    "\n",
    "    def __iter__(self):\n",
    "        return self  # Return the iterator object itself\n",
    "\n",
    "    def __next__(self):\n",
    "        if self.count >= self.n:\n",
    "            raise StopIteration  # Stop iteration if the specified number of terms is reached\n",
    "        # Generate the next Fibonacci number\n",
    "        next_value = self.a\n",
    "        self.a, self.b = self.b, self.a + self.b\n",
    "        self.count += 1\n",
    "        return next_value\n",
    "\n",
    "# Example usage\n",
    "fibonacci = FibonacciIterator(10)  # Create an iterator for the first 10 Fibonacci numbers\n",
    "for number in fibonacci:\n",
    "    print(number)\n"
   ]
  },
  {
   "cell_type": "markdown",
   "id": "e9ab2102-23b9-4e28-87db-e6f6e0ee4f07",
   "metadata": {},
   "source": [
    "Question.6 -  Write a generator function in Python that yields the powers of 2 up to a given exponent."
   ]
  },
  {
   "cell_type": "code",
   "execution_count": 24,
   "id": "663d3615-67aa-4d57-826b-27ebcd4ff732",
   "metadata": {},
   "outputs": [
    {
     "name": "stdout",
     "output_type": "stream",
     "text": [
      "1\n",
      "2\n",
      "4\n",
      "8\n",
      "16\n",
      "32\n"
     ]
    }
   ],
   "source": [
    "#Answer\n",
    "\n",
    "def powers_of_two(max_exponent):\n",
    "    # Start with the exponent of 0\n",
    "    exponent = 0\n",
    "    while exponent <= max_exponent:\n",
    "        yield 2 ** exponent  # Yield the power of 2\n",
    "        exponent += 1  # Move to the next exponent\n",
    "\n",
    "# Example usage\n",
    "for power in powers_of_two(5):\n",
    "    print(power)\n"
   ]
  },
  {
   "cell_type": "markdown",
   "id": "95799aab-2d19-4264-bf08-297adbce4f74",
   "metadata": {},
   "source": [
    "Question.7 -  Implement a generator function that reads a file line by line and yields each line as a string."
   ]
  },
  {
   "cell_type": "code",
   "execution_count": 26,
   "id": "78c2357c-055c-490f-abda-548ee418833c",
   "metadata": {},
   "outputs": [],
   "source": [
    "#Answer\n",
    "\n",
    "def read_lines(file_path):\n",
    "    \"\"\"Generator function that reads a file line by line.\"\"\"\n",
    "    with open(file_path, 'r') as file:\n",
    "        for line in file:\n",
    "            yield line.rstrip('\\n')  # Yield each line without trailing newline character\n",
    "\n",
    "# Example usage\n",
    "file_path = 'example.txt'  # Replace with the path to your file\n",
    "for line in read_lines(file_path):\n",
    "    print(line)\n"
   ]
  },
  {
   "cell_type": "markdown",
   "id": "cac5d1b6-5904-49fd-ad93-55f9189b6ae0",
   "metadata": {},
   "source": [
    "Question.8 - Use a lambda function in Python to sort a list of tuples based on the second element of each tuple."
   ]
  },
  {
   "cell_type": "code",
   "execution_count": 28,
   "id": "1ea0625f-02b9-4f46-a6a1-a759d4cc5f7d",
   "metadata": {},
   "outputs": [
    {
     "name": "stdout",
     "output_type": "stream",
     "text": [
      "[('Rahul', 20), ('Ram', 25), ('Ayush', 30), ('Jay', 35)]\n"
     ]
    }
   ],
   "source": [
    "# List of tuples\n",
    "tuples_list = [(\"Ayush\", 30), (\"Ram\", 25), (\"Jay\", 35), (\"Rahul\", 20)]\n",
    "\n",
    "# Sort the list of tuples based on the second element of each tuple\n",
    "sorted_tuples = sorted(tuples_list, key=lambda x: x[1])\n",
    "\n",
    "# Print the sorted list\n",
    "print(sorted_tuples)\n"
   ]
  },
  {
   "cell_type": "markdown",
   "id": "96b92e76-2c5c-41a6-b83b-729862125f55",
   "metadata": {},
   "source": [
    "Question.9 - Write a Python program that uses `map()` to convert a list of temperatures from Celsius to Fahrenheit."
   ]
  },
  {
   "cell_type": "code",
   "execution_count": 29,
   "id": "35e1d93f-9d50-4bb5-b6b2-6765fdfc1b2a",
   "metadata": {},
   "outputs": [
    {
     "name": "stdout",
     "output_type": "stream",
     "text": [
      "[32.0, 68.0, 77.0, 86.0, 95.0, 104.0]\n"
     ]
    }
   ],
   "source": [
    "#Answer\n",
    "\n",
    "\n",
    "def celsius_to_fahrenheit(celsius):\n",
    "    \"\"\"Convert Celsius to Fahrenheit.\"\"\"\n",
    "    return (celsius * 9/5) + 32\n",
    "\n",
    "# List of temperatures in Celsius\n",
    "celsius_temperatures = [0, 20, 25, 30, 35, 40]\n",
    "\n",
    "# Use map to apply the conversion function to each temperature\n",
    "fahrenheit_temperatures = map(celsius_to_fahrenheit, celsius_temperatures)\n",
    "\n",
    "# Convert the result to a list\n",
    "fahrenheit_temperatures_list = list(fahrenheit_temperatures)\n",
    "\n",
    "# Print the converted temperatures\n",
    "print(fahrenheit_temperatures_list)\n"
   ]
  },
  {
   "cell_type": "markdown",
   "id": "a0524dec-5b3e-4ee8-a729-c84eeddd634d",
   "metadata": {},
   "source": [
    "Question.10 -  Create a Python program that uses `filter()` to remove all the vowels from a given string."
   ]
  },
  {
   "cell_type": "code",
   "execution_count": 30,
   "id": "c22a8bc5-ddd2-464b-89c4-6bdb099a883a",
   "metadata": {},
   "outputs": [
    {
     "name": "stdout",
     "output_type": "stream",
     "text": [
      "Hll, Wrld!\n"
     ]
    }
   ],
   "source": [
    "#Answer\n",
    "\n",
    "def is_not_vowel(char):\n",
    "    \"\"\"Check if the character is not a vowel.\"\"\"\n",
    "    vowels = 'aeiouAEIOU'\n",
    "    return char not in vowels\n",
    "\n",
    "def remove_vowels(s):\n",
    "    \"\"\"Remove all vowels from the given string.\"\"\"\n",
    "    # Use filter to keep only non-vowel characters\n",
    "    filtered_chars = filter(is_not_vowel, s)\n",
    "    # Join the filtered characters back into a string\n",
    "    return ''.join(filtered_chars)\n",
    "\n",
    "# Example usage\n",
    "input_string = \"Hello, World!\"\n",
    "result_string = remove_vowels(input_string)\n",
    "print(result_string)\n"
   ]
  },
  {
   "cell_type": "code",
   "execution_count": null,
   "id": "4d8ef7c8-df9e-4710-b43b-f4ec8aaf3e14",
   "metadata": {},
   "outputs": [],
   "source": [
    "#Answer.11 -  "
   ]
  }
 ],
 "metadata": {
  "kernelspec": {
   "display_name": "Python 3 (ipykernel)",
   "language": "python",
   "name": "python3"
  },
  "language_info": {
   "codemirror_mode": {
    "name": "ipython",
    "version": 3
   },
   "file_extension": ".py",
   "mimetype": "text/x-python",
   "name": "python",
   "nbconvert_exporter": "python",
   "pygments_lexer": "ipython3",
   "version": "3.10.8"
  }
 },
 "nbformat": 4,
 "nbformat_minor": 5
}
